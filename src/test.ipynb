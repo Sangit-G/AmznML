{
 "cells": [
  {
   "cell_type": "markdown",
   "id": "1b70b34e",
   "metadata": {},
   "source": [
    "### Basic library imports"
   ]
  },
  {
   "cell_type": "code",
   "execution_count": 9,
   "id": "719d15af",
   "metadata": {},
   "outputs": [],
   "source": [
    "import os\n",
    "import pandas as pd"
   ]
  },
  {
   "cell_type": "markdown",
   "id": "b8911e33",
   "metadata": {},
   "source": [
    "### Read Dataset"
   ]
  },
  {
   "cell_type": "code",
   "execution_count": 10,
   "id": "d3136aac",
   "metadata": {},
   "outputs": [],
   "source": [
    "DATASET_FOLDER = '../dataset/'\n",
    "train = pd.read_csv(os.path.join(DATASET_FOLDER, 'train.csv'))\n",
    "test = pd.read_csv(os.path.join(DATASET_FOLDER, 'test.csv'))\n",
    "sample_test = pd.read_csv(os.path.join(DATASET_FOLDER, 'sample_test.csv'))\n",
    "sample_test_out = pd.read_csv(os.path.join(DATASET_FOLDER, 'sample_test_out.csv'))"
   ]
  },
  {
   "cell_type": "markdown",
   "id": "60ebd689",
   "metadata": {},
   "source": [
    "### Run Sanity check using src/sanity.py"
   ]
  },
  {
   "cell_type": "code",
   "execution_count": 11,
   "id": "81bb3988",
   "metadata": {},
   "outputs": [
    {
     "name": "stdout",
     "output_type": "stream",
     "text": [
      "Parsing successfull for file: ../dataset/sample_test_out.csv\r\n"
     ]
    }
   ],
   "source": [
    "!python sanity.py --test_filename ../dataset/sample_test.csv --output_filename ../dataset/sample_test_out.csv"
   ]
  },
  {
   "cell_type": "code",
   "execution_count": 12,
   "id": "5aa79459",
   "metadata": {},
   "outputs": [
    {
     "name": "stdout",
     "output_type": "stream",
     "text": [
      "Error: Invalid unit [lbs] found in 6.75 lbs. Allowed units: {'watt', 'litre', 'kilogram', 'gallon', 'millilitre', 'microgram', 'millimetre', 'microlitre', 'kilowatt', 'imperial gallon', 'foot', 'kilovolt', 'millivolt', 'quart', 'inch', 'centimetre', 'yard', 'decilitre', 'ton', 'metre', 'pound', 'fluid ounce', 'cup', 'pint', 'volt', 'centilitre', 'ounce', 'gram', 'cubic inch', 'milligram', 'cubic foot'}\r\n"
     ]
    }
   ],
   "source": [
    "!python sanity.py --test_filename ../dataset/sample_test.csv --output_filename ../dataset/sample_test_out_fail.csv"
   ]
  },
  {
   "cell_type": "markdown",
   "id": "dbe930a8",
   "metadata": {},
   "source": [
    "### Download images"
   ]
  },
  {
   "cell_type": "code",
   "execution_count": 13,
   "id": "a3d1aad8",
   "metadata": {},
   "outputs": [
    {
     "name": "stdout",
     "output_type": "stream",
     "text": [
      "#images to download: 54\n",
      "Download started... using 64 threads\n"
     ]
    },
    {
     "name": "stderr",
     "output_type": "stream",
     "text": [
      "\u001b[38;2;0;255;0m100%\u001b[39m \u001b[38;2;0;255;0m(54 of 54)\u001b[39m |########################| Elapsed Time: 0:00:00 ETA:  00:00:00\n"
     ]
    },
    {
     "name": "stdout",
     "output_type": "stream",
     "text": [
      "... Download completed, Elapsed Time: 0.9588 seconds\n"
     ]
    }
   ],
   "source": [
    "from utils import download_images\n",
    "download_images(sample_test['image_link'], '../images')"
   ]
  },
  {
   "cell_type": "code",
   "execution_count": 14,
   "id": "89aaba53",
   "metadata": {},
   "outputs": [],
   "source": [
    "assert len(os.listdir('../images')) > 0"
   ]
  },
  {
   "cell_type": "code",
   "execution_count": 15,
   "id": "1ba3d802",
   "metadata": {},
   "outputs": [],
   "source": [
    "rm -rf ../images"
   ]
  },
  {
   "cell_type": "code",
   "execution_count": null,
   "id": "6c38a641",
   "metadata": {},
   "outputs": [],
   "source": []
  },
  {
   "cell_type": "code",
   "execution_count": 3,
   "id": "a466ddbb",
   "metadata": {},
   "outputs": [
    {
     "data": {
      "text/plain": [
       "'CBnera\\n\\nIrener\\n\\nPURE CURCUMIN\\nEXTRACT\\n\\nHERBAL DIETARY SUPPLEMENT\\n\\nNET WT: 5.5 oz (100 g)\\n'"
      ]
     },
     "execution_count": 3,
     "metadata": {},
     "output_type": "execute_result"
    }
   ],
   "source": [
    "from ocr import get_image_to_text\n",
    "from glob import glob\n",
    "\n",
    "image = glob('../images/*')[3]\n",
    "\n",
    "get_image_to_text(image)\n"
   ]
  },
  {
   "cell_type": "code",
   "execution_count": 4,
   "id": "71d53bf0",
   "metadata": {},
   "outputs": [
    {
     "data": {
      "text/plain": [
       "'WEIGHT: 0.55KG\\n\\n, REFERENCE\\nCOMPARISON\\nCEREAL\\n37(cm)\\n14.5(inch)\\n; Cellphone 9.7” Tablet\\nI ! LT 6.7x13.8em 16.9x24em\\n30(cm) 11.8(inch) A4 MAGAZINE Tablet\\n21x29.7cm 24.2x33.9cm\\n15(cm)\\n5.9(inch)\\n\\n13” Laptop Office Folder\\n21.5x30.5cm 23.5x31.5cm\\n\\n'"
      ]
     },
     "execution_count": 4,
     "metadata": {},
     "output_type": "execute_result"
    }
   ],
   "source": [
    "image = glob('../images/*')[4]\n",
    "\n",
    "get_image_to_text(image)"
   ]
  },
  {
   "cell_type": "code",
   "execution_count": 18,
   "id": "09cec0a7",
   "metadata": {},
   "outputs": [
    {
     "name": "stderr",
     "output_type": "stream",
     "text": [
      "100%|█████████▉| 998/1000 [28:46<00:03,  1.73s/it]\n"
     ]
    }
   ],
   "source": [
    "import pandas as pd\n",
    "from tqdm import tqdm\n",
    "train_images = glob('../images/*')\n",
    "\n",
    "image_content = pd.DataFrame(columns=['image_file', 'content_ocr'])\n",
    "\n",
    "image_title = []\n",
    "content = []\n",
    "i = 1\n",
    "for image in tqdm(train_images, total = 1000):\n",
    "    image_title.append(image)\n",
    "    content.append(get_image_to_text(image))\n",
    "    i += 1\n",
    "    if i == 1000:\n",
    "        break "
   ]
  },
  {
   "cell_type": "code",
   "execution_count": 14,
   "id": "05931a8b",
   "metadata": {},
   "outputs": [],
   "source": [
    "image_content['image_file'] = image_title\n",
    "image_content['content_ocr'] = content"
   ]
  },
  {
   "cell_type": "code",
   "execution_count": 15,
   "id": "50c171d9",
   "metadata": {},
   "outputs": [],
   "source": [
    "image_content.to_csv('../dataset/train_ocr.csv', index=None)"
   ]
  },
  {
   "cell_type": "code",
   "execution_count": 16,
   "id": "182a84ec",
   "metadata": {},
   "outputs": [
    {
     "data": {
      "text/html": [
       "<div>\n",
       "<style scoped>\n",
       "    .dataframe tbody tr th:only-of-type {\n",
       "        vertical-align: middle;\n",
       "    }\n",
       "\n",
       "    .dataframe tbody tr th {\n",
       "        vertical-align: top;\n",
       "    }\n",
       "\n",
       "    .dataframe thead th {\n",
       "        text-align: right;\n",
       "    }\n",
       "</style>\n",
       "<table border=\"1\" class=\"dataframe\">\n",
       "  <thead>\n",
       "    <tr style=\"text-align: right;\">\n",
       "      <th></th>\n",
       "      <th>image_file</th>\n",
       "      <th>content_ocr</th>\n",
       "    </tr>\n",
       "  </thead>\n",
       "  <tbody>\n",
       "    <tr>\n",
       "      <th>0</th>\n",
       "      <td>../images\\71HDFYlrWXL.jpg</td>\n",
       "      <td>SS\\n\\nHARI BAD\\n\\n———\\n\\nee\\n\\nSMOKED RED\\n\\nP...</td>\n",
       "    </tr>\n",
       "    <tr>\n",
       "      <th>1</th>\n",
       "      <td>../images\\81hcr4ufWLS.jpg</td>\n",
       "      <td></td>\n",
       "    </tr>\n",
       "    <tr>\n",
       "      <th>2</th>\n",
       "      <td>../images\\71lghP3ZG3L.jpg</td>\n",
       "      <td>CBnera\\n\\nIrener\\n\\nPURE CURCUMIN\\nEXTRACT\\n\\n...</td>\n",
       "    </tr>\n",
       "    <tr>\n",
       "      <th>3</th>\n",
       "      <td>../images\\81QQi9+VdZL.jpg</td>\n",
       "      <td>eau Grofmutter.\\n\\naed\\n\\nDEFTIGER |\\n\\nUnser ...</td>\n",
       "    </tr>\n",
       "    <tr>\n",
       "      <th>4</th>\n",
       "      <td>../images\\71igmVE5pyL.jpg</td>\n",
       "      <td>WEIGHT: 0.55KG\\n\\n, REFERENCE\\nCOMPARISON\\nCER...</td>\n",
       "    </tr>\n",
       "    <tr>\n",
       "      <th>5</th>\n",
       "      <td>../images\\71npFYvL9TL.jpg</td>\n",
       "      <td>Trying for\\nPpaby\\n\\nwith exact recommended le...</td>\n",
       "    </tr>\n",
       "    <tr>\n",
       "      <th>6</th>\n",
       "      <td>../images\\816KT5cMfeL.jpg</td>\n",
       "      <td>with end-to-end\\nplug, connect\\nup to 9 sets\\n...</td>\n",
       "    </tr>\n",
       "    <tr>\n",
       "      <th>7</th>\n",
       "      <td>../images\\815e8Yxr1nS.jpg</td>\n",
       "      <td>PURITY\\n\\nQUALITY, INGREDIENTS &gt;”.\\n\\n&amp; SOURCE...</td>\n",
       "    </tr>\n",
       "    <tr>\n",
       "      <th>8</th>\n",
       "      <td>../images\\81PV8C4ZExS.jpg</td>\n",
       "      <td>‘ USE IN SOUPS, LENTILS,\\ny / RICE AND MEAT DI...</td>\n",
       "    </tr>\n",
       "    <tr>\n",
       "      <th>9</th>\n",
       "      <td>../images\\71kYjxIO5OL.jpg</td>\n",
       "      <td>200\\ngrams\\n</td>\n",
       "    </tr>\n",
       "  </tbody>\n",
       "</table>\n",
       "</div>"
      ],
      "text/plain": [
       "                  image_file  \\\n",
       "0  ../images\\71HDFYlrWXL.jpg   \n",
       "1  ../images\\81hcr4ufWLS.jpg   \n",
       "2  ../images\\71lghP3ZG3L.jpg   \n",
       "3  ../images\\81QQi9+VdZL.jpg   \n",
       "4  ../images\\71igmVE5pyL.jpg   \n",
       "5  ../images\\71npFYvL9TL.jpg   \n",
       "6  ../images\\816KT5cMfeL.jpg   \n",
       "7  ../images\\815e8Yxr1nS.jpg   \n",
       "8  ../images\\81PV8C4ZExS.jpg   \n",
       "9  ../images\\71kYjxIO5OL.jpg   \n",
       "\n",
       "                                         content_ocr  \n",
       "0  SS\\n\\nHARI BAD\\n\\n———\\n\\nee\\n\\nSMOKED RED\\n\\nP...  \n",
       "1                                                     \n",
       "2  CBnera\\n\\nIrener\\n\\nPURE CURCUMIN\\nEXTRACT\\n\\n...  \n",
       "3  eau Grofmutter.\\n\\naed\\n\\nDEFTIGER |\\n\\nUnser ...  \n",
       "4  WEIGHT: 0.55KG\\n\\n, REFERENCE\\nCOMPARISON\\nCER...  \n",
       "5  Trying for\\nPpaby\\n\\nwith exact recommended le...  \n",
       "6  with end-to-end\\nplug, connect\\nup to 9 sets\\n...  \n",
       "7  PURITY\\n\\nQUALITY, INGREDIENTS >”.\\n\\n& SOURCE...  \n",
       "8  ‘ USE IN SOUPS, LENTILS,\\ny / RICE AND MEAT DI...  \n",
       "9                                       200\\ngrams\\n  "
      ]
     },
     "execution_count": 16,
     "metadata": {},
     "output_type": "execute_result"
    }
   ],
   "source": [
    "image_content"
   ]
  },
  {
   "cell_type": "code",
   "execution_count": null,
   "id": "e02564ed",
   "metadata": {},
   "outputs": [],
   "source": []
  },
  {
   "cell_type": "code",
   "execution_count": null,
   "id": "fc2994b7",
   "metadata": {},
   "outputs": [],
   "source": []
  }
 ],
 "metadata": {
  "kernelspec": {
   "display_name": "test",
   "language": "python",
   "name": "python3"
  },
  "language_info": {
   "codemirror_mode": {
    "name": "ipython",
    "version": 3
   },
   "file_extension": ".py",
   "mimetype": "text/x-python",
   "name": "python",
   "nbconvert_exporter": "python",
   "pygments_lexer": "ipython3",
   "version": "3.11.9"
  }
 },
 "nbformat": 4,
 "nbformat_minor": 5
}
